{
 "cells": [
  {
   "cell_type": "markdown",
   "metadata": {},
   "source": [
    "# Projeto Movie Lens Faculdade\n",
    "\n",
    "> Este projeto sera utilizada para responder 1 atividade minha da pos-graduação, para que assim possa testar meus conhecimentos com relação a Python e DataScience!\n",
    "\n",
    "*Codigo Escrito por: __Georges Ballister de Oliveira__*\n",
    "\n",
    "📌Leia a Documentação no ReadMe do Projeto!"
   ]
  },
  {
   "cell_type": "code",
   "execution_count": null,
   "metadata": {},
   "outputs": [],
   "source": [
    "# Bibliotecas\n",
    "import pandas as pd"
   ]
  }
 ],
 "metadata": {
  "language_info": {
   "name": "python"
  }
 },
 "nbformat": 4,
 "nbformat_minor": 2
}
